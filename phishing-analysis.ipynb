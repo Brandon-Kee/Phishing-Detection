{
 "cells": [
  {
   "metadata": {
    "ExecuteTime": {
     "end_time": "2025-06-30T02:47:22.455481Z",
     "start_time": "2025-06-30T02:47:22.450467Z"
    }
   },
   "cell_type": "code",
   "source": [
    "import pandas as pd\n",
    "import re\n",
    "import torch\n",
    "import seaborn as sns\n",
    "import matplotlib.pyplot as plt\n",
    "from sklearn.model_selection import train_test_split\n",
    "from sklearn.metrics import accuracy_score, precision_recall_fscore_support\n",
    "from transformers import BertTokenizer, BertForSequenceClassification\n",
    "from transformers import Trainer, TrainingArguments\n",
    "from transformers import DataCollatorWithPadding\n",
    "from datasets import Dataset\n"
   ],
   "id": "fbc121e30a2defb3",
   "outputs": [],
   "execution_count": 2
  },
  {
   "metadata": {},
   "cell_type": "markdown",
   "source": "# Load Data",
   "id": "cf31f4b2ea0f1f57"
  },
  {
   "metadata": {
    "ExecuteTime": {
     "end_time": "2025-06-30T02:47:25.697640Z",
     "start_time": "2025-06-30T02:47:25.184883Z"
    }
   },
   "cell_type": "code",
   "source": [
    "df = pd.read_csv(\"phishing_email.csv\")\n",
    "df.shape"
   ],
   "id": "13eeb245e054cac",
   "outputs": [
    {
     "data": {
      "text/plain": [
       "(82486, 2)"
      ]
     },
     "execution_count": 3,
     "metadata": {},
     "output_type": "execute_result"
    }
   ],
   "execution_count": 3
  },
  {
   "metadata": {},
   "cell_type": "markdown",
   "source": "# Preprocessing",
   "id": "11ab308e733cfc4f"
  },
  {
   "metadata": {
    "ExecuteTime": {
     "end_time": "2025-06-30T02:47:59.807246Z",
     "start_time": "2025-06-30T02:47:59.632718Z"
    }
   },
   "cell_type": "code",
   "source": [
    "# Remove nulls\n",
    "df.dropna(inplace=True)\n",
    "df['label'] = df['label'].astype(int)\n",
    "\n",
    "# Make lowercase\n",
    "def lowercase_text(text):\n",
    "    return text.lower()\n",
    "\n",
    "df['text_combined'] = df['text_combined'].apply(lowercase_text)"
   ],
   "id": "944a39084befadbc",
   "outputs": [],
   "execution_count": 4
  },
  {
   "metadata": {
    "ExecuteTime": {
     "end_time": "2025-06-30T02:48:18.884049Z",
     "start_time": "2025-06-30T02:48:18.837348Z"
    }
   },
   "cell_type": "code",
   "source": "print(df.info())",
   "id": "bcb464e14bf6fa7c",
   "outputs": [
    {
     "name": "stdout",
     "output_type": "stream",
     "text": [
      "<class 'pandas.core.frame.DataFrame'>\n",
      "RangeIndex: 82486 entries, 0 to 82485\n",
      "Data columns (total 2 columns):\n",
      " #   Column         Non-Null Count  Dtype \n",
      "---  ------         --------------  ----- \n",
      " 0   text_combined  82486 non-null  object\n",
      " 1   label          82486 non-null  int64 \n",
      "dtypes: int64(1), object(1)\n",
      "memory usage: 1.3+ MB\n",
      "None\n"
     ]
    }
   ],
   "execution_count": 5
  }
 ],
 "metadata": {
  "kernelspec": {
   "display_name": "Python 3",
   "language": "python",
   "name": "python3"
  },
  "language_info": {
   "codemirror_mode": {
    "name": "ipython",
    "version": 2
   },
   "file_extension": ".py",
   "mimetype": "text/x-python",
   "name": "python",
   "nbconvert_exporter": "python",
   "pygments_lexer": "ipython2",
   "version": "2.7.6"
  }
 },
 "nbformat": 4,
 "nbformat_minor": 5
}
