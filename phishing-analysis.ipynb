{
 "cells": [
  {
   "metadata": {
    "ExecuteTime": {
     "end_time": "2025-06-30T02:47:22.455481Z",
     "start_time": "2025-06-30T02:47:22.450467Z"
    }
   },
   "cell_type": "code",
   "source": [
    "import pandas as pd\n",
    "import re\n",
    "import torch\n",
    "import seaborn as sns\n",
    "import matplotlib.pyplot as plt\n",
    "from sklearn.model_selection import train_test_split\n",
    "from sklearn.metrics import accuracy_score, precision_recall_fscore_support\n",
    "from transformers import BertTokenizer, BertForSequenceClassification\n",
    "from transformers import Trainer, TrainingArguments\n",
    "from transformers import DataCollatorWithPadding\n",
    "from datasets import Dataset\n"
   ],
   "id": "fbc121e30a2defb3",
   "outputs": [],
   "execution_count": 2
  },
  {
   "metadata": {},
   "cell_type": "markdown",
   "source": "# Load Data",
   "id": "cf31f4b2ea0f1f57"
  },
  {
   "metadata": {
    "ExecuteTime": {
     "end_time": "2025-06-30T02:47:25.697640Z",
     "start_time": "2025-06-30T02:47:25.184883Z"
    }
   },
   "cell_type": "code",
   "source": [
    "df = pd.read_csv(\"phishing_email.csv\")\n",
    "df.shape"
   ],
   "id": "13eeb245e054cac",
   "outputs": [
    {
     "data": {
      "text/plain": [
       "(82486, 2)"
      ]
     },
     "execution_count": 3,
     "metadata": {},
     "output_type": "execute_result"
    }
   ],
   "execution_count": 3
  },
  {
   "metadata": {},
   "cell_type": "markdown",
   "source": "# Preprocessing",
   "id": "11ab308e733cfc4f"
  },
  {
   "metadata": {
    "ExecuteTime": {
     "end_time": "2025-06-30T02:47:59.807246Z",
     "start_time": "2025-06-30T02:47:59.632718Z"
    }
   },
   "cell_type": "code",
   "source": [
    "# Remove nulls\n",
    "df.dropna(inplace=True)\n",
    "df['label'] = df['label'].astype(int)\n",
    "\n",
    "# Make lowercase\n",
    "def lowercase_text(text):\n",
    "    return text.lower()\n",
    "\n",
    "df['text_combined'] = df['text_combined'].apply(lowercase_text)"
   ],
   "id": "944a39084befadbc",
   "outputs": [],
   "execution_count": 4
  },
  {
   "metadata": {
    "ExecuteTime": {
     "end_time": "2025-06-30T02:48:18.884049Z",
     "start_time": "2025-06-30T02:48:18.837348Z"
    }
   },
   "cell_type": "code",
   "source": "print(df.info())",
   "id": "bcb464e14bf6fa7c",
   "outputs": [
    {
     "name": "stdout",
     "output_type": "stream",
     "text": [
      "<class 'pandas.core.frame.DataFrame'>\n",
      "RangeIndex: 82486 entries, 0 to 82485\n",
      "Data columns (total 2 columns):\n",
      " #   Column         Non-Null Count  Dtype \n",
      "---  ------         --------------  ----- \n",
      " 0   text_combined  82486 non-null  object\n",
      " 1   label          82486 non-null  int64 \n",
      "dtypes: int64(1), object(1)\n",
      "memory usage: 1.3+ MB\n",
      "None\n"
     ]
    }
   ],
   "execution_count": 5
  },
  {
   "metadata": {
    "ExecuteTime": {
     "end_time": "2025-06-30T02:49:14.145601Z",
     "start_time": "2025-06-30T02:49:14.135800Z"
    }
   },
   "cell_type": "code",
   "source": "df.shape",
   "id": "1e6b8e6427d921e",
   "outputs": [
    {
     "data": {
      "text/plain": [
       "(82486, 2)"
      ]
     },
     "execution_count": 6,
     "metadata": {},
     "output_type": "execute_result"
    }
   ],
   "execution_count": 6
  },
  {
   "metadata": {
    "ExecuteTime": {
     "end_time": "2025-06-30T02:49:21.601004Z",
     "start_time": "2025-06-30T02:49:21.587411Z"
    }
   },
   "cell_type": "code",
   "source": "df.tail()",
   "id": "980acfcbd7d17daa",
   "outputs": [
    {
     "data": {
      "text/plain": [
       "                                           text_combined  label\n",
       "82481  info advantageapartmentscom infoadvantageapart...      1\n",
       "82482  monkeyorg helpdeskmonkeyorg monkeyorg hi josep...      1\n",
       "82483  help center infohelpcentercoza_infohelpcenterc...      1\n",
       "82484  metamask infosofamekarcom verify metamask wall...      1\n",
       "82485  fastway infofastwaycoza_infofastwaycoza_infofa...      1"
      ],
      "text/html": [
       "<div>\n",
       "<style scoped>\n",
       "    .dataframe tbody tr th:only-of-type {\n",
       "        vertical-align: middle;\n",
       "    }\n",
       "\n",
       "    .dataframe tbody tr th {\n",
       "        vertical-align: top;\n",
       "    }\n",
       "\n",
       "    .dataframe thead th {\n",
       "        text-align: right;\n",
       "    }\n",
       "</style>\n",
       "<table border=\"1\" class=\"dataframe\">\n",
       "  <thead>\n",
       "    <tr style=\"text-align: right;\">\n",
       "      <th></th>\n",
       "      <th>text_combined</th>\n",
       "      <th>label</th>\n",
       "    </tr>\n",
       "  </thead>\n",
       "  <tbody>\n",
       "    <tr>\n",
       "      <th>82481</th>\n",
       "      <td>info advantageapartmentscom infoadvantageapart...</td>\n",
       "      <td>1</td>\n",
       "    </tr>\n",
       "    <tr>\n",
       "      <th>82482</th>\n",
       "      <td>monkeyorg helpdeskmonkeyorg monkeyorg hi josep...</td>\n",
       "      <td>1</td>\n",
       "    </tr>\n",
       "    <tr>\n",
       "      <th>82483</th>\n",
       "      <td>help center infohelpcentercoza_infohelpcenterc...</td>\n",
       "      <td>1</td>\n",
       "    </tr>\n",
       "    <tr>\n",
       "      <th>82484</th>\n",
       "      <td>metamask infosofamekarcom verify metamask wall...</td>\n",
       "      <td>1</td>\n",
       "    </tr>\n",
       "    <tr>\n",
       "      <th>82485</th>\n",
       "      <td>fastway infofastwaycoza_infofastwaycoza_infofa...</td>\n",
       "      <td>1</td>\n",
       "    </tr>\n",
       "  </tbody>\n",
       "</table>\n",
       "</div>"
      ]
     },
     "execution_count": 7,
     "metadata": {},
     "output_type": "execute_result"
    }
   ],
   "execution_count": 7
  },
  {
   "metadata": {},
   "cell_type": "markdown",
   "source": "# Data Visualization",
   "id": "31d2d9fe60615fda"
  },
  {
   "metadata": {
    "ExecuteTime": {
     "end_time": "2025-06-30T02:49:51.418837Z",
     "start_time": "2025-06-30T02:49:50.833061Z"
    }
   },
   "cell_type": "code",
   "source": [
    "plt.figure(figsize=(6, 5))\n",
    "sns.countplot(data=df, x='label')\n",
    "plt.title('Phishing vs. Legitimate Emails')\n",
    "plt.xticks([0,1],['Legitimate Emails', 'Phishing Emails'])\n",
    "plt.ylabel('Count')\n",
    "plt.show()"
   ],
   "id": "4662a039dfa7f8a8",
   "outputs": [
    {
     "data": {
      "text/plain": [
       "<Figure size 600x500 with 1 Axes>"
      ],
      "image/png": "[encoded data removed]"
     },
     "metadata": {},
     "output_type": "display_data"
    }
   ],
   "execution_count": 8
  },
  {
   "metadata": {
    "ExecuteTime": {
     "end_time": "2025-06-30T02:52:10.626794Z",
     "start_time": "2025-06-30T02:52:07.150633Z"
    }
   },
   "cell_type": "code",
   "source": [
    "# Count special characters in each email\n",
    "df['special_chars'] = df['text_combined'].apply(\n",
    "    lambda x: sum(not c.isalnum() and not c.isspace() for c in x)\n",
    ")\n",
    "\n",
    "# Plot boxplot\n",
    "plt.figure(figsize=(8, 5))\n",
    "sns.boxplot(\n",
    "    x='label',\n",
    "    y='special_chars',\n",
    "    data=df,\n",
    "    hue='label',\n",
    "    palette='RdBu',\n",
    "    dodge=False\n",
    ")\n",
    "\n",
    "# Label formatting\n",
    "plt.xticks([0, 1], ['Legitimate', 'Phishing'])\n",
    "plt.title('Special Character Count Distribution by Email Type')\n",
    "plt.xlabel('Email Class')\n",
    "plt.ylabel('Number of Special Characters')\n",
    "plt.grid(True)\n",
    "plt.show()\n"
   ],
   "id": "5651862f56c31467",
   "outputs": [
    {
     "data": {
      "text/plain": [
       "<Figure size 800x500 with 1 Axes>"
      ],
      "image/png": "[encoded data removed]"
     },
     "metadata": {},
     "output_type": "display_data"
    }
   ],
   "execution_count": 9
  }
 ],
 "metadata": {
  "kernelspec": {
   "display_name": "Python 3",
   "language": "python",
   "name": "python3"
  },
  "language_info": {
   "codemirror_mode": {
    "name": "ipython",
    "version": 2
   },
   "file_extension": ".py",
   "mimetype": "text/x-python",
   "name": "python",
   "nbconvert_exporter": "python",
   "pygments_lexer": "ipython2",
   "version": "2.7.6"
  }
 },
 "nbformat": 4,
 "nbformat_minor": 5
}
